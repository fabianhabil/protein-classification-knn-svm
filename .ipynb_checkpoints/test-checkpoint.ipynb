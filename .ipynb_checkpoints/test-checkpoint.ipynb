{
 "cells": [
  {
   "cell_type": "code",
   "execution_count": null,
   "metadata": {},
   "outputs": [],
   "source": [
    "import numpy as np\n",
    "from sklearn import svm\n",
    "from sklearn.model_selection import train_test_split\n",
    "from sklearn.metrics import accuracy_score\n",
    "from sklearn.preprocessing import LabelEncoder\n",
    "from sklearn.neighbors import KNeighborsClassifier\n",
    "from sklearn.feature_extraction.text import CountVectorizer\n",
    "\n",
    "# Fungsi untuk membaca file FASTA dan mengembalikan label dan sekuen protein\n",
    "def read_fasta(file_path):\n",
    "    labels = []\n",
    "    sequences = []\n",
    "    with open(file_path, 'r') as file:\n",
    "        lines = file.readlines()\n",
    "        label = None\n",
    "        sequence = ''\n",
    "        for line in lines:\n",
    "            if line.startswith('>'):\n",
    "                if label is not None:\n",
    "                    labels.append(label)\n",
    "                    sequences.append(sequence)\n",
    "                label = line.strip()[1:]\n",
    "                sequence = ''\n",
    "            else:\n",
    "                sequence += line.strip()\n",
    "        if label is not None:\n",
    "            labels.append(label)\n",
    "            sequences.append(sequence)\n",
    "    return labels, sequences\n",
    "print(\"ya beres\")"
   ]
  },
  {
   "cell_type": "code",
   "execution_count": null,
   "metadata": {},
   "outputs": [],
   "source": [
    "# Load dataset FASTA\n",
    "fasta_file = 'data2.fasta'\n",
    "labels, sequences = read_fasta(fasta_file)\n",
    "print(\"ya beres\")"
   ]
  },
  {
   "cell_type": "code",
   "execution_count": null,
   "metadata": {},
   "outputs": [],
   "source": [
    "# Mengonversi label menjadi angka menggunakan LabelEncoder\n",
    "label_encoder = LabelEncoder()\n",
    "encoded_labels = label_encoder.fit_transform(labels)\n",
    "print(\"ya beres\")"
   ]
  },
  {
   "cell_type": "code",
   "execution_count": null,
   "metadata": {},
   "outputs": [],
   "source": [
    "# Mengonversi sekuen protein menjadi fitur menggunakan CountVectorizer\n",
    "vectorizer = CountVectorizer(analyzer='char', lowercase=False)\n",
    "features = vectorizer.fit_transform(sequences).toarray()\n",
    "print(\"ya beres\")"
   ]
  },
  {
   "cell_type": "code",
   "execution_count": null,
   "metadata": {},
   "outputs": [],
   "source": [
    "# Membagi dataset menjadi data latih dan data uji\n",
    "X_train, X_test, y_train, y_test = train_test_split(features, encoded_labels, test_size=0.2, random_state=42)\n",
    "print(\"ya beres\")"
   ]
  },
  {
   "cell_type": "code",
   "execution_count": null,
   "metadata": {},
   "outputs": [],
   "source": [
    "# Melatih model SVM\n",
    "model = svm.SVC(kernel='linear', verbose=True, )\n",
    "model.fit(X_train, y_train)\n",
    "print(\"ya beres\")"
   ]
  },
  {
   "cell_type": "code",
   "execution_count": null,
   "metadata": {},
   "outputs": [],
   "source": []
  },
  {
   "cell_type": "code",
   "execution_count": null,
   "metadata": {},
   "outputs": [],
   "source": [
    "# Membagi dataset menjadi data latih dan data uji\n",
    "X_train, X_test, y_train, y_test = train_test_split(features, encoded_labels, test_size=0.2, random_state=42)\n",
    "\n",
    "# Melatih model SVM\n",
    "model = svm.SVC(kernel='linear', verbose=True, )\n",
    "model.fit(X_train, y_train)\n",
    "\n",
    "# Memprediksi kelas protein pada data uji\n",
    "y_pred = model.predict(X_test)\n",
    "\n",
    "# Menghitung akurasi\n",
    "accuracy = accuracy_score(y_test, y_pred)\n",
    "print(\"Akurasi: {:.2f}%\".format(accuracy * 100))\n"
   ]
  },
  {
   "cell_type": "code",
   "execution_count": null,
   "metadata": {},
   "outputs": [],
   "source": [
    "# Fungsi untuk membaca file FASTA dan mengembalikan label dan sekuen protein\n",
    "def read_fasta(file_path):\n",
    "    labels = []\n",
    "    sequences = []\n",
    "    with open(file_path, 'r') as file:\n",
    "        lines = file.readlines()\n",
    "        label = None\n",
    "        sequence = ''\n",
    "        for line in lines:\n",
    "            if line.startswith('>'):\n",
    "                if label is not None:\n",
    "                    labels.append(label)\n",
    "                    sequences.append(sequence)\n",
    "                label = line.strip()[1:]\n",
    "                sequence = ''\n",
    "            else:\n",
    "                sequence += line.strip()\n",
    "        if label is not None:\n",
    "            labels.append(label)\n",
    "            sequences.append(sequence)\n",
    "    return labels, sequences\n",
    "\n",
    "# Load dataset FASTA\n",
    "fasta_file = 'data2.fasta'\n",
    "\n",
    "# Mengonversi label menjadi angka menggunakan LabelEncoder\n",
    "label_encoder = LabelEncoder()\n",
    "encoded_labels = label_encoder.fit_transform(labels)\n",
    "\n",
    "# Mengonversi sekuen protein menjadi fitur menggunakan CountVectorizer\n",
    "vectorizer = CountVectorizer(analyzer='char', lowercase=False)\n",
    "features = vectorizer.fit_transform(sequences).toarray()\n",
    "\n",
    "# Membagi dataset menjadi data latih dan data uji\n",
    "X_train, X_test, y_train, y_test = train_test_split(features, encoded_labels, test_size=0.2, random_state=42)\n",
    "\n",
    "# Melatih model KNN dengan k = 5\n",
    "k = 3\n",
    "model = KNeighborsClassifier(n_neighbors=k)\n",
    "model.fit(X_train, y_train)\n",
    "\n",
    "# Memprediksi kelas protein pada data uji\n",
    "y_pred = model.predict(X_test)\n",
    "\n",
    "# Menghitung akurasi\n",
    "accuracy = accuracy_score(y_test, y_pred)\n",
    "print(\"Akurasi: {:.2f}%\".format(accuracy * 100))"
   ]
  },
  {
   "cell_type": "code",
   "execution_count": null,
   "metadata": {},
   "outputs": [],
   "source": []
  }
 ],
 "metadata": {
  "kernelspec": {
   "display_name": "Python 3 (ipykernel)",
   "language": "python",
   "name": "python3"
  },
  "language_info": {
   "codemirror_mode": {
    "name": "ipython",
    "version": 3
   },
   "file_extension": ".py",
   "mimetype": "text/x-python",
   "name": "python",
   "nbconvert_exporter": "python",
   "pygments_lexer": "ipython3",
   "version": "3.9.12"
  }
 },
 "nbformat": 4,
 "nbformat_minor": 2
}
